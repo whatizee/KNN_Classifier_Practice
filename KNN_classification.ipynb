{
 "cells": [
  {
   "cell_type": "code",
   "execution_count": 44,
   "id": "a5538b9b-2060-495f-be04-b51c01b93638",
   "metadata": {},
   "outputs": [
    {
     "name": "stdout",
     "output_type": "stream",
     "text": [
      "Sample is \n",
      "X2     20\n",
      "Y2    170\n",
      "Name: 1, dtype: int64\n",
      "Distance from sample to all X_train values \n",
      "[18.027756377319946, 14.142135623730951, 10.0, 10.44030650891055, 19.72308292331602, 13.0, 25.612496949731394, 29.832867780352597]\n",
      "Sorted index is \n",
      "[2 3 5 1 0 4 6 7]\n",
      "3 nearest index values are \n",
      "[2 3 5]\n",
      "KNN predicted that the given sample tends to be a Orange\n"
     ]
    }
   ],
   "source": [
    "import pandas as pd\n",
    "import numpy as np\n",
    "from sklearn.model_selection import train_test_split\n",
    "\n",
    "df = pd.DataFrame({'X2': [10, 20, 23, 36, 25, 26, 27, 28, 29, 30],\n",
    "                   'Y2': [160, 170, 180, 190, 182, 187, 199, 176, 175, 187],\n",
    "                   'Category': ['Blue', 'Orange', 'Orange', 'Blue', 'Orange', 'Blue', 'Orange', 'Blue', 'Orange', 'Blue']})\n",
    "X = df[['X2', 'Y2']]\n",
    "y = df['Category']\n",
    "X_train, X_test, y_train, y_test = train_test_split(X, y, test_size=0.2, random_state=42)\n",
    "Sample = X_test.iloc[1, :] \n",
    "print(f'Sample is \\n{Sample}')\n",
    "distance = []\n",
    "k = 3\n",
    "for idx in range(len(X_train)):\n",
    "    diff = np.sqrt(np.sum((Sample - X_train.iloc[idx, :])**2))\n",
    "    distance.append(diff)\n",
    "print(f'Distance from sample to all X_train values \\n{distance}')\n",
    "sorted_index = np.argsort(distance)\n",
    "print(f'Sorted index is \\n{sorted_index}')\n",
    "k_nearest_values = sorted_index[:k]\n",
    "print(f'{3} nearest index values are \\n{k_nearest_values}')\n",
    "print(f'KNN predicted that the given sample tends to be a {y_train.iloc[k_nearest_values].mode().iloc[0]}')\n"
   ]
  },
  {
   "cell_type": "code",
   "execution_count": 46,
   "id": "ffda71a0-1b25-4930-8581-d26f45f3d8ab",
   "metadata": {},
   "outputs": [
    {
     "name": "stdout",
     "output_type": "stream",
     "text": [
      "Sample is Age        20\n",
      "Weight    170\n",
      "Name: 1, dtype: int64\n",
      "Distance from sample to all X_train values \n",
      " [18.027756377319946, 14.142135623730951, 10.0, 10.44030650891055, 19.72308292331602, 13.0, 25.612496949731394, 29.832867780352597]\n",
      " Sorted index is [2 3 5 1 0 4 6 7]\n",
      "3 nearest index values are [2 3 5]\n",
      "KNN predicted that the given sample tends to be a Male\n"
     ]
    }
   ],
   "source": [
    "import pandas as pd\n",
    "import numpy as np\n",
    "from sklearn.model_selection import train_test_split\n",
    "\n",
    "df = pd.DataFrame({'Age': [10, 20, 23, 36, 25, 26, 27, 28, 29, 30],\n",
    "                   'Weight': [160, 170, 180, 190, 182, 187, 199, 176, 175, 187],\n",
    "                   'Gender': ['Male', 'Female', 'Male', 'Female', 'Male', 'Female', 'Male', 'Male', 'Female', 'Male']})\n",
    "X = df[['Age', 'Weight']]\n",
    "y = df['Gender']\n",
    "X_train, X_test, y_train, y_test = train_test_split(X, y, test_size=0.2, random_state=42)\n",
    "Sample = X_test.iloc[1, :] \n",
    "print(f'Sample is {Sample}')\n",
    "distance = []\n",
    "k = 3\n",
    "for idx in range(len(X_train)):\n",
    "    diff = np.sqrt(np.sum((Sample - X_train.iloc[idx, :])**2))\n",
    "    distance.append(diff)\n",
    "print(f'Distance from sample to all X_train values \\n {distance}')\n",
    "sorted_index = np.argsort(distance)\n",
    "print(f' Sorted index is {sorted_index}')\n",
    "k_nearest_values = sorted_index[:k]\n",
    "print(f'{3} nearest index values are {k_nearest_values}')\n",
    "print(f'KNN predicted that the given sample tends to be a {y_train.iloc[k_nearest_values].mode().iloc[0]}')\n"
   ]
  },
  {
   "cell_type": "code",
   "execution_count": null,
   "id": "0dbc2df4-1fb8-47b1-aad5-6c981d6c05bf",
   "metadata": {},
   "outputs": [],
   "source": []
  }
 ],
 "metadata": {
  "kernelspec": {
   "display_name": "Python 3 (ipykernel)",
   "language": "python",
   "name": "python3"
  },
  "language_info": {
   "codemirror_mode": {
    "name": "ipython",
    "version": 3
   },
   "file_extension": ".py",
   "mimetype": "text/x-python",
   "name": "python",
   "nbconvert_exporter": "python",
   "pygments_lexer": "ipython3",
   "version": "3.8.4"
  }
 },
 "nbformat": 4,
 "nbformat_minor": 5
}
